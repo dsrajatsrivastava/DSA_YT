{
 "cells": [
  {
   "cell_type": "markdown",
   "metadata": {},
   "source": [
    "Data Types\n",
    "Python offers a wide range of data types, including\n",
    "1.\tIntegers: Whole numbers, e.g., 1, 42, -10.\n",
    "2.\tFloats: Decimal numbers, e.g., 3.14, 0.5, -1.0.\n",
    "3.\tStrings: Sequences of characters, e.g., \"Hello, World!\", 'Python'.\n",
    "4.\tBooleans: True or False values.\n",
    "5.\tLists: Ordered, mutable sequences, e.g., [1, 2, 3].\n",
    "6.\tTuples: Ordered, immutable sequences, e.g., (1, 2, 3).\n",
    "7.\tDictionaries: Key-value pairs, e.g., {'name': 'Alice', 'age': 30}.\n",
    "8.\tSets: Unordered collections of unique elements, e.g., {1, 2, 3}.\n",
    "\n",
    "Variables and Assignment\n",
    "Variables are used to store and manage data in Python. Here's how you declare and assign values to variables:\n",
    "\n"
   ]
  },
  {
   "cell_type": "code",
   "execution_count": 1,
   "metadata": {},
   "outputs": [],
   "source": [
    "# Variable declaration and assignment\n",
    "x = 10  # Assigns the integer 10 to variable x\n",
    "name = \"Alice\"  # Assigns the string \"Alice\" to variable name\n",
    "\n",
    "# Variable reassignment\n",
    "x = 20  # Reassigns the value of x to 20\n"
   ]
  },
  {
   "cell_type": "markdown",
   "metadata": {},
   "source": [
    "Control Structures\n",
    "Control structures enable you to manage the flow of your program. Python provides various control structures:\n",
    "1. Conditional Statements (if, elif, else)\n",
    "Conditional statements allow you to execute code based on specific conditions:\n",
    "\n",
    "if condition:\n",
    "    # Code to execute if the condition is True\n",
    "elif another_condition:\n",
    "    # Code to execute if the first condition is False, and the second condition is True\n",
    "else:\n",
    "    # Code to execute if none of the above conditions are True\n",
    "\n"
   ]
  },
  {
   "cell_type": "code",
   "execution_count": 8,
   "metadata": {},
   "outputs": [
    {
     "name": "stdout",
     "output_type": "stream",
     "text": [
      "four\n"
     ]
    }
   ],
   "source": [
    "def newfun(x):\n",
    "    if (x==2):\n",
    "        return(print(\"two\"))\n",
    "    elif (x==3):\n",
    "        return(print(\"three\"))\n",
    "    else:\n",
    "        return(print(\"four\"))\n",
    "\n",
    "newfun(12)"
   ]
  },
  {
   "cell_type": "code",
   "execution_count": 10,
   "metadata": {},
   "outputs": [
    {
     "name": "stdout",
     "output_type": "stream",
     "text": [
      "1\n",
      "2\n",
      "3\n",
      "4\n",
      "5\n"
     ]
    }
   ],
   "source": [
    "# For Loop \n",
    "\n",
    "List1= [1,2,3,4,5]\n",
    "for i in List1:\n",
    "    print(i)\n"
   ]
  },
  {
   "cell_type": "code",
   "execution_count": 13,
   "metadata": {},
   "outputs": [
    {
     "name": "stdout",
     "output_type": "stream",
     "text": [
      "0 1\n",
      "1 2\n",
      "2 3\n",
      "3 4\n",
      "4 5\n"
     ]
    }
   ],
   "source": [
    "for index , values  in enumerate(List1):\n",
    "    print (index , values )"
   ]
  },
  {
   "cell_type": "code",
   "execution_count": 16,
   "metadata": {},
   "outputs": [
    {
     "name": "stdout",
     "output_type": "stream",
     "text": [
      "0 a\n",
      "1 b\n",
      "2 c\n",
      "3 d\n"
     ]
    }
   ],
   "source": [
    "python= [\"a\",\"b\",\"c\",\"d\"]\n",
    "for index , values in enumerate(python):\n",
    "    print(index, values)\n"
   ]
  },
  {
   "cell_type": "code",
   "execution_count": 17,
   "metadata": {},
   "outputs": [
    {
     "name": "stdout",
     "output_type": "stream",
     "text": [
      "Name: Alice, Score: 95\n",
      "Name: Bob, Score: 87\n",
      "Name: Charlie, Score: 92\n"
     ]
    }
   ],
   "source": [
    "names = [\"Alice\", \"Bob\", \"Charlie\"]\n",
    "scores = [95, 87, 92]\n",
    "\n",
    "# Using zip to combine two lists element-wise\n",
    "combined_data = zip(names, scores)\n",
    "\n",
    "# Converting the zip object to a list of tuples (optional)\n",
    "combined_data = list(combined_data)\n",
    "\n",
    "# Printing the combined data\n",
    "for name, score in combined_data:\n",
    "    print(f\"Name: {name}, Score: {score}\")\n"
   ]
  },
  {
   "cell_type": "code",
   "execution_count": 19,
   "metadata": {},
   "outputs": [
    {
     "name": "stdout",
     "output_type": "stream",
     "text": [
      "Student ID: 101, Name: Alice, Grade: 88\n",
      "Student ID: 102, Name: Bob, Grade: 92\n",
      "Student ID: 103, Name: Charlie, Grade: 78\n",
      "Student ID: 104, Name: David, Grade: 95\n",
      "Student ID: 105, Name: Eve, Grade: 89\n"
     ]
    }
   ],
   "source": [
    "## Given data in separate lists\n",
    "student_ids = [101, 102, 103, 104, 105]\n",
    "student_names = [\"Alice\", \"Bob\", \"Charlie\", \"David\", \"Eve\"]\n",
    "student_grades = [88, 92, 78, 95, 89]\n",
    "\n",
    "# Your task:\n",
    "# Use the zip function to combine the above lists into a list of tuples.\n",
    "# Each tuple should contain (id, name, grade).\n",
    "\n",
    "\n",
    "combined_data= zip(student_ids,student_names,student_grades )\n",
    "\n",
    "combined_data= list(combined_data)\n",
    "\n",
    "\n",
    "# Your code here\n",
    "\n",
    "# Print the combined data\n",
    "for student in combined_data:\n",
    "    print(f\"Student ID: {student[0]}, Name: {student[1]}, Grade: {student[2]}\")\n"
   ]
  },
  {
   "cell_type": "code",
   "execution_count": 22,
   "metadata": {},
   "outputs": [],
   "source": [
    "# Given data\n",
    "product_names = [\"Widget A\", \"Widget B\", \"Widget C\", \"Widget D\", \"Widget E\"]\n",
    "sales_data = [\n",
    "    [100, 200, 150, 300, 50],\n",
    "    [50, 70, 80, 110, 30],\n",
    "    [40, 90, 60, 110, 20]\n",
    "]\n",
    "\n",
    "# Your task:\n",
    "# 1. Use the zip function to combine product names with their corresponding sales data.\n",
    "# 2. Calculate the following for each product:\n",
    "#    a. Total sales (the sum of all sales)\n",
    "#    b. Average sales (total sales divided by the number of months)\n",
    "#    c. Maximum sales in a single month\n",
    "#    d. Minimum sales in a single month\n",
    "# 3. Find and print the product with the highest total sales.\n",
    "# 4. Find and print the product with the lowest average sales.\n",
    "# 5. Print a summary report with the calculated data for each product.\n",
    "\n",
    "# Your code here\n",
    "\n",
    "# Print the summary report\n",
    "#)\n"
   ]
  },
  {
   "cell_type": "code",
   "execution_count": 34,
   "metadata": {},
   "outputs": [
    {
     "name": "stdout",
     "output_type": "stream",
     "text": [
      "('Widget A', [100, 200, 150, 300, 50])\n",
      "('Widget B', [50, 70, 80, 110, 30])\n",
      "('Widget C', [40, 90, 60, 110, 20])\n"
     ]
    },
    {
     "ename": "NameError",
     "evalue": "name 'np' is not defined",
     "output_type": "error",
     "traceback": [
      "\u001b[1;31m---------------------------------------------------------------------------\u001b[0m",
      "\u001b[1;31mNameError\u001b[0m                                 Traceback (most recent call last)",
      "\u001b[1;32mc:\\Users\\rajat.k.srivastava\\Desktop\\DSA python notes\\DSA_notes.ipynb Cell 11\u001b[0m line \u001b[0;36m6\n\u001b[0;32m      <a href='vscode-notebook-cell:/c%3A/Users/rajat.k.srivastava/Desktop/DSA%20python%20notes/DSA_notes.ipynb#X20sZmlsZQ%3D%3D?line=2'>3</a>\u001b[0m \u001b[39mfor\u001b[39;00m values \u001b[39min\u001b[39;00m product_summary:\n\u001b[0;32m      <a href='vscode-notebook-cell:/c%3A/Users/rajat.k.srivastava/Desktop/DSA%20python%20notes/DSA_notes.ipynb#X20sZmlsZQ%3D%3D?line=3'>4</a>\u001b[0m     \u001b[39mprint\u001b[39m(values)\n\u001b[1;32m----> <a href='vscode-notebook-cell:/c%3A/Users/rajat.k.srivastava/Desktop/DSA%20python%20notes/DSA_notes.ipynb#X20sZmlsZQ%3D%3D?line=5'>6</a>\u001b[0m average_Sales\u001b[39m=\u001b[39m np\u001b[39m.\u001b[39mmean(values[\u001b[39m1\u001b[39m])\n",
      "\u001b[1;31mNameError\u001b[0m: name 'np' is not defined"
     ]
    }
   ],
   "source": [
    "product_summary= zip(product_names,sales_data)\n",
    "product_summary= list(product_summary)\n",
    "for values in product_summary:\n",
    "    print(values)\n",
    "\n",
    "average_Sales= np.mean(values[1])\n"
   ]
  },
  {
   "cell_type": "code",
   "execution_count": 33,
   "metadata": {},
   "outputs": [
    {
     "name": "stdout",
     "output_type": "stream",
     "text": [
      "Product Sales Summary:\n"
     ]
    },
    {
     "ename": "IndexError",
     "evalue": "tuple index out of range",
     "output_type": "error",
     "traceback": [
      "\u001b[1;31m---------------------------------------------------------------------------\u001b[0m",
      "\u001b[1;31mIndexError\u001b[0m                                Traceback (most recent call last)",
      "\u001b[1;32mc:\\Users\\rajat.k.srivastava\\Desktop\\DSA python notes\\DSA_notes.ipynb Cell 12\u001b[0m line \u001b[0;36m3\n\u001b[0;32m      <a href='vscode-notebook-cell:/c%3A/Users/rajat.k.srivastava/Desktop/DSA%20python%20notes/DSA_notes.ipynb#X21sZmlsZQ%3D%3D?line=0'>1</a>\u001b[0m \u001b[39mprint\u001b[39m(\u001b[39m\"\u001b[39m\u001b[39mProduct Sales Summary:\u001b[39m\u001b[39m\"\u001b[39m)\n\u001b[0;32m      <a href='vscode-notebook-cell:/c%3A/Users/rajat.k.srivastava/Desktop/DSA%20python%20notes/DSA_notes.ipynb#X21sZmlsZQ%3D%3D?line=1'>2</a>\u001b[0m \u001b[39mfor\u001b[39;00m product \u001b[39min\u001b[39;00m product_summary:\n\u001b[1;32m----> <a href='vscode-notebook-cell:/c%3A/Users/rajat.k.srivastava/Desktop/DSA%20python%20notes/DSA_notes.ipynb#X21sZmlsZQ%3D%3D?line=2'>3</a>\u001b[0m     \u001b[39mprint\u001b[39m(product[\u001b[39m2\u001b[39;49m])\n\u001b[0;32m      <a href='vscode-notebook-cell:/c%3A/Users/rajat.k.srivastava/Desktop/DSA%20python%20notes/DSA_notes.ipynb#X21sZmlsZQ%3D%3D?line=3'>4</a>\u001b[0m     \u001b[39mprint\u001b[39m(\u001b[39mf\u001b[39m\u001b[39m\"\u001b[39m\u001b[39mProduct: \u001b[39m\u001b[39m{\u001b[39;00mproduct[\u001b[39m0\u001b[39m]\u001b[39m}\u001b[39;00m\u001b[39m\"\u001b[39m)\n\u001b[0;32m      <a href='vscode-notebook-cell:/c%3A/Users/rajat.k.srivastava/Desktop/DSA%20python%20notes/DSA_notes.ipynb#X21sZmlsZQ%3D%3D?line=4'>5</a>\u001b[0m     \u001b[39mprint\u001b[39m(\u001b[39mf\u001b[39m\u001b[39m\"\u001b[39m\u001b[39mTotal Sales: \u001b[39m\u001b[39m{\u001b[39;00mproduct[\u001b[39m1\u001b[39m]\u001b[39m}\u001b[39;00m\u001b[39m\"\u001b[39m)\n",
      "\u001b[1;31mIndexError\u001b[0m: tuple index out of range"
     ]
    }
   ],
   "source": [
    "\n",
    "print(\"Product Sales Summary:\")\n",
    "for product in product_summary:\n",
    "    print(product[2])\n",
    "    print(f\"Product: {product[0]}\")\n",
    "    print(f\"Total Sales: {product[1]}\")\n",
    "    print(f\"Average Sales: {product[2]}\")\n",
    "    print(f\"Maximum Sales in a Month: {product[3]}\")\n",
    "    print(f\"Minimum Sales in a Month: {product[4]}\\n\")\n",
    "# print(f\"Product with Highest Total Sales: {highest_total_sales[0]} (Total Sales: {highest_total_sales[1]})\")\n",
    "# print(f\"Product with Lowest Average Sales: {lowest_average_sales[0]} (Average Sales: {lowest_average_sales[1]})\" "
   ]
  },
  {
   "cell_type": "code",
   "execution_count": null,
   "metadata": {},
   "outputs": [],
   "source": []
  }
 ],
 "metadata": {
  "kernelspec": {
   "display_name": "Python 3",
   "language": "python",
   "name": "python3"
  },
  "language_info": {
   "codemirror_mode": {
    "name": "ipython",
    "version": 3
   },
   "file_extension": ".py",
   "mimetype": "text/x-python",
   "name": "python",
   "nbconvert_exporter": "python",
   "pygments_lexer": "ipython3",
   "version": "3.11.6"
  }
 },
 "nbformat": 4,
 "nbformat_minor": 2
}
